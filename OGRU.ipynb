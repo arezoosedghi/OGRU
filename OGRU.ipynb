{
  "cells": [
    {
      "cell_type": "code",
      "execution_count": null,
      "metadata": {
        "id": "PfRYqnZV5J1M"
      },
      "outputs": [],
      "source": [
        "from google.colab import drive\n",
        "drive.mount('/content/drive')"
      ]
    },
    {
      "cell_type": "code",
      "execution_count": null,
      "metadata": {
        "id": "7OLeeo7-63PZ"
      },
      "outputs": [],
      "source": [
        "import numpy as np\n",
        "import torch\n",
        "import torch.nn as nn\n",
        "from scipy.io import loadmat\n",
        "import cv2\n",
        "import skimage as io\n",
        "import PIL\n",
        "from PIL import Image\n",
        "import os\n",
        "from google.colab.patches import cv2_imshow"
      ]
    },
    {
      "cell_type": "code",
      "execution_count": null,
      "metadata": {
        "id": "N_V41wBT6_2L"
      },
      "outputs": [],
      "source": [
        "def RMSELoss(yhat,y):\n",
        "    return torch.sqrt(torch.mean((yhat-y)**2))"
      ]
    },
    {
      "cell_type": "code",
      "execution_count": null,
      "metadata": {
        "id": "FgHBkc1W7C9-"
      },
      "outputs": [],
      "source": [
        "class BackgroundModel(nn.Module):\n",
        "\n",
        "\tdef __init__(self, input_size, hidden_size, num_layers):\n",
        "\t\tsuper(BackgroundModel, self).__init__()\n",
        "\t\tself.rnn = nn.GRU(input_size, hidden_size, num_layers)\n",
        "\t\tself.linear = nn.Linear(hidden_size, input_size)\n",
        "\n",
        "\tdef forward(self, x_in):\n",
        "\t\tx_in_shape = x_in\n",
        "\t\tx_input1 = x_in[0].unsqueeze(0)\n",
        "\t\tlatent, _ = self.rnn(x_input1)\n",
        "\t\tlowrank_es = self.linear(latent).view(x_in_shape.size())\n",
        "\t\tloss = RMSELoss(lowrank_es, x_input1)\n",
        "\t\treturn lowrank_es, loss\n"
      ]
    },
    {
      "cell_type": "markdown",
      "metadata": {
        "id": "z7S38CfySk-M"
      },
      "source": [
        "# To check input shape:\n",
        "video_file = '/content/drive/MyDrive/BMC_videos/111.mp4'\n",
        "cap = cv2.VideoCapture(video_file)\n",
        "ret, frame = cap.read()\n",
        "gray = cv2.cvtColor(frame, cv2.COLOR_BGR2GRAY)\n",
        "x = torch.FloatTensor(gray).unsqueeze(0).unsqueeze(0).view(1, 1, -1)\n",
        "x.shape"
      ]
    },
    {
      "cell_type": "code",
      "execution_count": null,
      "metadata": {
        "id": "Xx3kMRQ57FlC"
      },
      "outputs": [],
      "source": [
        "path_of_org = '/content/drive/MyDrive/Images_org/'\n",
        "path_of_lo = '/content/drive/MyDrive/Images_lo/'\n",
        "path_of_sp = '/content/drive/MyDrive/Images_sp/'\n",
        "\n",
        "\n",
        "model = BackgroundModel(input_size=307200, hidden_size=40, num_layers=2)\n",
        "optimizer = torch.optim.Rprop(model.parameters(), lr=0.02)\n",
        "lowrank = torch.FloatTensor(np.zeros([1,307200]))\n",
        "\n",
        "\n",
        "print('loading data..')\n",
        "\n",
        "#defining the video file path\n",
        "video_file = '/content/drive/MyDrive/BMC_videos/111.mp4'\n",
        "#open the video file\n",
        "cap = cv2.VideoCapture(video_file)\n",
        "\n",
        "\n",
        "print('start..')\n",
        "#read the first frame\n",
        "ret, frame = cap.read()\n",
        "gray = cv2.cvtColor(frame, cv2.COLOR_BGR2GRAY)\n",
        "x = torch.FloatTensor(gray).unsqueeze(0).unsqueeze(0).view(1, 1, -1)\n",
        "\n",
        "\n",
        "# loop over the frames\n",
        "while ret:\n",
        "\n",
        "\n",
        "\t#pre-processing the frame\n",
        "\tx = torch.FloatTensor(gray).unsqueeze(0).unsqueeze(0).view(1, 1, -1)\n",
        "\n",
        "\t#passing frame through model\n",
        "\tlowrank_es, loss = model.forward(x)\n",
        "\n",
        "  #backpropagation\n",
        "\toptimizer.zero_grad()\n",
        "\tloss.backward()\n",
        "\toptimizer.step()\n",
        "\n",
        "\tret, frame = cap.read()\n",
        "\tgray = cv2.cvtColor(frame, cv2.COLOR_BGR2GRAY)\n",
        "\n",
        "\timg_org = x.reshape(480, 640)\n",
        "\timg_org = np.array(img_org, dtype = np.uint8)\n",
        "\t#cv2.imwrite(path_of_org + str(i) + '.jpg', img_org)\n",
        "\n",
        "\tlowrank_result = lowrank_es.squeeze(dim=1)\n",
        "\timg_bg = lowrank_result.reshape(480, 640)\n",
        "\timg_bg = img_bg.detach().numpy()\n",
        "\timg_bg = np.array(img_bg, dtype = np.uint8)\n",
        "\t#cv2.imwrite(path_of_lo + str(i) + '.jpg', img_bg)\n",
        "\n",
        "\timg_fg = cv2.subtract(img_org, img_bg)\n",
        "\t#cv2.imwrite(path_of_sp + str(i) + '.jpg', img_fg)\n",
        "\n",
        "\n",
        "\timg_result = np.concatenate((img_org, img_bg, img_fg), axis=1)\n",
        "\tcv2_imshow(img_result)\n",
        "\n",
        "\n",
        "\n",
        "#releasing video file\n",
        "cap.release()\n",
        "\n"
      ]
    },
    {
      "cell_type": "code",
      "execution_count": null,
      "metadata": {
        "id": "_4BBk1Vn7KsZ"
      },
      "outputs": [],
      "source": [
        "#creating videos of results:\n",
        "\n",
        "#dirs_org_frames = os.listdir(path_of_org)\n",
        "dirs_lo_frames = os.listdir(path_of_lo)\n",
        "dirs_sp_frames = os.listdir(path_of_sp)\n",
        "\n",
        "#dirs_org_frames_init = []\n",
        "dirs_lo_frames_init = []\n",
        "dirs_sp_frames_init = []\n",
        "\n",
        "#img_array_org = []\n",
        "img_array_lo = []\n",
        "img_array_sp = []\n",
        "\n",
        "\n",
        "for i in range(x.size(0)):\n",
        "  #indx_org = dirs_org_frames.index(f'{i}' + '.jpg')\n",
        "  indx_lo = dirs_lo_frames.index(f'{i}' + '.jpg')\n",
        "  indx_sp = dirs_sp_frames.index(f'{i}' + '.jpg')\n",
        "\n",
        "  #dirs_org_frames_init.append(dirs_org_frames[indx_org])\n",
        "  dirs_lo_frames_init.append(dirs_lo_frames[indx_lo])\n",
        "  dirs_sp_frames_init.append(dirs_sp_frames[indx_sp])\n",
        "\n",
        "\n",
        "  #print(path_of_org + dirs_org_frames_init[i])\n",
        "  print(path_of_lo + dirs_lo_frames_init[i])\n",
        "  print(path_of_sp + dirs_sp_frames_init[i])\n",
        "\n",
        "\n",
        "  #img_org = cv2.imread(path_of_org + dirs_org_frames_init[i])\n",
        "  img_lo = cv2.imread(path_of_lo + dirs_lo_frames_init[i])\n",
        "  img_sp = cv2.imread(path_of_sp + dirs_sp_frames_init[i])\n",
        "\n",
        "  #height, width, layers = img_org.shape\n",
        "  height, width, layers = img_lo.shape\n",
        "  height, width, layers = img_sp.shape\n",
        "\n",
        "  size = (width,height)\n",
        "  #img_array_org.append(img_org)\n",
        "  img_array_lo.append(img_lo)\n",
        "  img_array_sp.append(img_sp)\n",
        "\n",
        "\n",
        "out_org = cv2.VideoWriter('ORA2_org_noRobust.avi',cv2.VideoWriter_fourcc(*'DIVX'), 4, size)\n",
        "out_lo = cv2.VideoWriter('ICA2_lo_noRobust.avi',cv2.VideoWriter_fourcc(*'DIVX'), 4, size)\n",
        "out_sp = cv2.VideoWriter('ICA2_sp_noRobust.avi',cv2.VideoWriter_fourcc(*'DIVX'), 4, size)\n",
        "\n",
        "\n",
        "\n",
        "for i in range(len(img_array_org)):\n",
        "  out_org.write(img_array_org[i])\n",
        "out_org.release()\n",
        "\n",
        "\n",
        "for i in range(len(img_array_lo)):\n",
        "  out_lo.write(img_array_lo[i])\n",
        "out_lo.release()\n",
        "\n",
        "\n",
        "for i in range(len(img_array_sp)):\n",
        "  out_sp.write(img_array_sp[i])\n",
        "out_sp.release()"
      ]
    },
    {
      "cell_type": "code",
      "execution_count": null,
      "metadata": {
        "id": "QgT7kZhoMyQq"
      },
      "outputs": [],
      "source": []
    }
  ],
  "metadata": {
    "accelerator": "GPU",
    "colab": {
      "provenance": [],
      "private_outputs": true,
      "gpuType": "T4"
    },
    "kernelspec": {
      "display_name": "Python 3",
      "name": "python3"
    },
    "language_info": {
      "name": "python"
    }
  },
  "nbformat": 4,
  "nbformat_minor": 0
}
